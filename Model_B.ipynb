{
 "cells": [
  {
   "cell_type": "markdown",
   "id": "34528d65-d4ac-40fb-b003-a2ac346da9ad",
   "metadata": {},
   "source": [
    "# Model B: Includes Everything"
   ]
  },
  {
   "cell_type": "code",
   "execution_count": null,
   "id": "a839e72c-53a5-4f78-b0d3-e5fbd80eb33d",
   "metadata": {},
   "outputs": [],
   "source": [
    "import matplotlib.pyplot as plt\n",
    "import numpy as np\n",
    "import pandas as pd\n",
    "from df_after_transform import df_after_transform\n",
    "from sklearn import set_config\n",
    "from sklearn.calibration import CalibrationDisplay\n",
    "from sklearn.compose import (\n",
    "    ColumnTransformer,\n",
    "    make_column_selector,\n",
    "    make_column_transformer,\n",
    ")\n",
    "from sklearn.decomposition import PCA\n",
    "from sklearn.ensemble import GradientBoostingRegressor, HistGradientBoostingClassifier\n",
    "from sklearn.feature_selection import (\n",
    "    RFECV,\n",
    "    SelectFromModel,\n",
    "    SelectKBest,\n",
    "    SequentialFeatureSelector,\n",
    "    f_classif,\n",
    ")\n",
    "from sklearn.impute import SimpleImputer\n",
    "from sklearn.linear_model import Lasso\n",
    "from sklearn.metrics import (\n",
    "    ConfusionMatrixDisplay,\n",
    "    DetCurveDisplay,\n",
    "    PrecisionRecallDisplay,\n",
    "    RocCurveDisplay,\n",
    "    classification_report,\n",
    "    make_scorer,\n",
    "    r2_score\n",
    ")\n",
    "from sklearn.pipeline import Pipeline\n",
    "from sklearn.linear_model import LogisticRegression\n",
    "from sklearn.linear_model import LassoCV\n",
    "from sklearn.linear_model import Ridge\n",
    "from sklearn.model_selection import (\n",
    "    GridSearchCV,\n",
    "    KFold,\n",
    "    cross_validate,\n",
    "    train_test_split,\n",
    ")\n",
    "from sklearn.pipeline import Pipeline, make_pipeline\n",
    "from sklearn.preprocessing import (\n",
    "    OneHotEncoder,\n",
    "    OrdinalEncoder,\n",
    "    PolynomialFeatures,\n",
    "    StandardScaler,\n",
    ")\n",
    "from sklearn.svm import LinearSVC\n",
    "\n",
    "set_config(display=\"diagram\")  # display='text' is the default\n",
    "\n",
    "pd.set_option(\n",
    "    \"display.max_colwidth\", 1000, \"display.max_rows\", 50, \"display.max_columns\", None\n",
    ")\n",
    "\n",
    "import warnings\n",
    "\n",
    "warnings.filterwarnings(\"ignore\")"
   ]
  },
  {
   "cell_type": "code",
   "execution_count": 2,
   "id": "0e71d72c-7a8a-4dd9-847e-974fde3c2b5c",
   "metadata": {},
   "outputs": [],
   "source": [
    "set_config(display=\"diagram\")\n",
    "pd.set_option('display.max_colwidth', 1000, 'display.max_rows', 50, 'display.max_columns', None) \n",
    "\n",
    "mortgage = pd.read_csv('Input/mortgage_train.csv')"
   ]
  },
  {
   "cell_type": "code",
   "execution_count": 3,
   "id": "c6f93251-323c-4828-afcb-2c8bf30a9c5b",
   "metadata": {},
   "outputs": [],
   "source": [
    "perc = 94.6 # Like N %\n",
    "min_count =  int(((100-perc)/100)*mortgage.shape[0] + 1)\n",
    "mortgage = mortgage.dropna( axis=1, \n",
    "                thresh=min_count)"
   ]
  },
  {
   "cell_type": "code",
   "execution_count": 4,
   "id": "83abf77b-6694-49d0-a88f-5478ad20059f",
   "metadata": {},
   "outputs": [],
   "source": [
    "#mortgage = mortgage[mortgage[\"action_taken\"].str.contains(\"Team 1|Team 2\") == False]"
   ]
  },
  {
   "cell_type": "code",
   "execution_count": 5,
   "id": "096ffc1d-0f26-4789-938b-7c158e3e7c0e",
   "metadata": {},
   "outputs": [],
   "source": [
    "mortgage = mortgage[(mortgage.action_taken == 2) | (mortgage.action_taken == 3)]"
   ]
  },
  {
   "cell_type": "code",
   "execution_count": 6,
   "id": "b874a33a-3cd8-4c29-8e9c-69c11b60e65b",
   "metadata": {},
   "outputs": [],
   "source": [
    "#mortgage[(mortgage.action_taken != 1) & (mortgage.action_taken != 4) & (mortgage.action_taken != 4) & (mortgage.action_taken != 4)]"
   ]
  },
  {
   "cell_type": "code",
   "execution_count": 7,
   "id": "57e62e5b-7045-4582-a757-d0160c6cc550",
   "metadata": {},
   "outputs": [],
   "source": [
    "#mortgage.info()"
   ]
  },
  {
   "cell_type": "code",
   "execution_count": 8,
   "id": "fa664818-e5ea-46d0-91ae-1f4ed36d4ad1",
   "metadata": {},
   "outputs": [],
   "source": [
    "#mortgage"
   ]
  },
  {
   "cell_type": "code",
   "execution_count": 9,
   "id": "307a87ea-0c5d-43ad-89a9-e044cf926315",
   "metadata": {},
   "outputs": [],
   "source": [
    "#mortgage.loc[mortgage['action_taken'] == 3] # Application approved but not accepted"
   ]
  },
  {
   "cell_type": "code",
   "execution_count": null,
   "id": "bfee1413-b2c7-4758-8919-88c08d4780da",
   "metadata": {},
   "outputs": [],
   "source": []
  },
  {
   "cell_type": "code",
   "execution_count": 10,
   "id": "f294bd58-9140-4811-9abf-3cbe40ac0f19",
   "metadata": {},
   "outputs": [],
   "source": [
    "y = mortgage.action_taken== 3\n",
    "y.value_counts()\n",
    "mortgage = mortgage.drop(\"action_taken\", axis=1)\n",
    "\n",
    "# stratify will make sure that test/train both have equal fractions of outcome\n",
    "X_train, X_test, y_train, y_test = train_test_split(mortgage, y, stratify=y, test_size=0.2, random_state=0\n",
    ")"
   ]
  },
  {
   "cell_type": "code",
   "execution_count": null,
   "id": "222fe282-c702-4c3b-9dcd-07841deedfc8",
   "metadata": {},
   "outputs": [],
   "source": []
  },
  {
   "cell_type": "code",
   "execution_count": 11,
   "id": "30250682-fb82-49be-8dce-66666430d066",
   "metadata": {},
   "outputs": [],
   "source": [
    "numer_pipe = make_pipeline(SimpleImputer(),StandardScaler()) \n",
    "\n",
    "cat_pipe = make_pipeline(OneHotEncoder())\n",
    "\n",
    "\n",
    "preproc_pipe = ColumnTransformer([(\"num_impute\", numer_pipe, make_column_selector(dtype_include=np.number)),\n",
    "                                  (\"cat_trans\", cat_pipe, ['loan_purpose_name'])],remainder = 'drop')\n",
    "\n",
    "clf_logit = make_pipeline(preproc_pipe, LogisticRegression())"
   ]
  },
  {
   "cell_type": "code",
   "execution_count": 12,
   "id": "88ab982c-0d5c-4327-9e82-1bc4d8403295",
   "metadata": {},
   "outputs": [
    {
     "data": {
      "text/html": [
       "<style>#sk-2e1fadfc-5053-4405-8860-b52cf5f14b50 {color: black;background-color: white;}#sk-2e1fadfc-5053-4405-8860-b52cf5f14b50 pre{padding: 0;}#sk-2e1fadfc-5053-4405-8860-b52cf5f14b50 div.sk-toggleable {background-color: white;}#sk-2e1fadfc-5053-4405-8860-b52cf5f14b50 label.sk-toggleable__label {cursor: pointer;display: block;width: 100%;margin-bottom: 0;padding: 0.3em;box-sizing: border-box;text-align: center;}#sk-2e1fadfc-5053-4405-8860-b52cf5f14b50 label.sk-toggleable__label-arrow:before {content: \"▸\";float: left;margin-right: 0.25em;color: #696969;}#sk-2e1fadfc-5053-4405-8860-b52cf5f14b50 label.sk-toggleable__label-arrow:hover:before {color: black;}#sk-2e1fadfc-5053-4405-8860-b52cf5f14b50 div.sk-estimator:hover label.sk-toggleable__label-arrow:before {color: black;}#sk-2e1fadfc-5053-4405-8860-b52cf5f14b50 div.sk-toggleable__content {max-height: 0;max-width: 0;overflow: hidden;text-align: left;background-color: #f0f8ff;}#sk-2e1fadfc-5053-4405-8860-b52cf5f14b50 div.sk-toggleable__content pre {margin: 0.2em;color: black;border-radius: 0.25em;background-color: #f0f8ff;}#sk-2e1fadfc-5053-4405-8860-b52cf5f14b50 input.sk-toggleable__control:checked~div.sk-toggleable__content {max-height: 200px;max-width: 100%;overflow: auto;}#sk-2e1fadfc-5053-4405-8860-b52cf5f14b50 input.sk-toggleable__control:checked~label.sk-toggleable__label-arrow:before {content: \"▾\";}#sk-2e1fadfc-5053-4405-8860-b52cf5f14b50 div.sk-estimator input.sk-toggleable__control:checked~label.sk-toggleable__label {background-color: #d4ebff;}#sk-2e1fadfc-5053-4405-8860-b52cf5f14b50 div.sk-label input.sk-toggleable__control:checked~label.sk-toggleable__label {background-color: #d4ebff;}#sk-2e1fadfc-5053-4405-8860-b52cf5f14b50 input.sk-hidden--visually {border: 0;clip: rect(1px 1px 1px 1px);clip: rect(1px, 1px, 1px, 1px);height: 1px;margin: -1px;overflow: hidden;padding: 0;position: absolute;width: 1px;}#sk-2e1fadfc-5053-4405-8860-b52cf5f14b50 div.sk-estimator {font-family: monospace;background-color: #f0f8ff;border: 1px dotted black;border-radius: 0.25em;box-sizing: border-box;margin-bottom: 0.5em;}#sk-2e1fadfc-5053-4405-8860-b52cf5f14b50 div.sk-estimator:hover {background-color: #d4ebff;}#sk-2e1fadfc-5053-4405-8860-b52cf5f14b50 div.sk-parallel-item::after {content: \"\";width: 100%;border-bottom: 1px solid gray;flex-grow: 1;}#sk-2e1fadfc-5053-4405-8860-b52cf5f14b50 div.sk-label:hover label.sk-toggleable__label {background-color: #d4ebff;}#sk-2e1fadfc-5053-4405-8860-b52cf5f14b50 div.sk-serial::before {content: \"\";position: absolute;border-left: 1px solid gray;box-sizing: border-box;top: 2em;bottom: 0;left: 50%;}#sk-2e1fadfc-5053-4405-8860-b52cf5f14b50 div.sk-serial {display: flex;flex-direction: column;align-items: center;background-color: white;padding-right: 0.2em;padding-left: 0.2em;}#sk-2e1fadfc-5053-4405-8860-b52cf5f14b50 div.sk-item {z-index: 1;}#sk-2e1fadfc-5053-4405-8860-b52cf5f14b50 div.sk-parallel {display: flex;align-items: stretch;justify-content: center;background-color: white;}#sk-2e1fadfc-5053-4405-8860-b52cf5f14b50 div.sk-parallel::before {content: \"\";position: absolute;border-left: 1px solid gray;box-sizing: border-box;top: 2em;bottom: 0;left: 50%;}#sk-2e1fadfc-5053-4405-8860-b52cf5f14b50 div.sk-parallel-item {display: flex;flex-direction: column;position: relative;background-color: white;}#sk-2e1fadfc-5053-4405-8860-b52cf5f14b50 div.sk-parallel-item:first-child::after {align-self: flex-end;width: 50%;}#sk-2e1fadfc-5053-4405-8860-b52cf5f14b50 div.sk-parallel-item:last-child::after {align-self: flex-start;width: 50%;}#sk-2e1fadfc-5053-4405-8860-b52cf5f14b50 div.sk-parallel-item:only-child::after {width: 0;}#sk-2e1fadfc-5053-4405-8860-b52cf5f14b50 div.sk-dashed-wrapped {border: 1px dashed gray;margin: 0 0.4em 0.5em 0.4em;box-sizing: border-box;padding-bottom: 0.4em;background-color: white;position: relative;}#sk-2e1fadfc-5053-4405-8860-b52cf5f14b50 div.sk-label label {font-family: monospace;font-weight: bold;background-color: white;display: inline-block;line-height: 1.2em;}#sk-2e1fadfc-5053-4405-8860-b52cf5f14b50 div.sk-label-container {position: relative;z-index: 2;text-align: center;}#sk-2e1fadfc-5053-4405-8860-b52cf5f14b50 div.sk-container {/* jupyter's `normalize.less` sets `[hidden] { display: none; }` but bootstrap.min.css set `[hidden] { display: none !important; }` so we also need the `!important` here to be able to override the default hidden behavior on the sphinx rendered scikit-learn.org. See: https://github.com/scikit-learn/scikit-learn/issues/21755 */display: inline-block !important;position: relative;}#sk-2e1fadfc-5053-4405-8860-b52cf5f14b50 div.sk-text-repr-fallback {display: none;}</style><div id=\"sk-2e1fadfc-5053-4405-8860-b52cf5f14b50\" class=\"sk-top-container\"><div class=\"sk-text-repr-fallback\"><pre>Pipeline(steps=[(&#x27;columntransformer&#x27;,\n",
       "                 ColumnTransformer(transformers=[(&#x27;num_impute&#x27;,\n",
       "                                                  Pipeline(steps=[(&#x27;simpleimputer&#x27;,\n",
       "                                                                   SimpleImputer()),\n",
       "                                                                  (&#x27;standardscaler&#x27;,\n",
       "                                                                   StandardScaler())]),\n",
       "                                                  &lt;sklearn.compose._column_transformer.make_column_selector object at 0x7fcb5e21b640&gt;),\n",
       "                                                 (&#x27;cat_trans&#x27;,\n",
       "                                                  Pipeline(steps=[(&#x27;onehotencoder&#x27;,\n",
       "                                                                   OneHotEncoder())]),\n",
       "                                                  [&#x27;loan_purpose_name&#x27;])])),\n",
       "                (&#x27;logisticregression&#x27;, LogisticRegression())])</pre><b>Please rerun this cell to show the HTML repr or trust the notebook.</b></div><div class=\"sk-container\" hidden><div class=\"sk-item sk-dashed-wrapped\"><div class=\"sk-label-container\"><div class=\"sk-label sk-toggleable\"><input class=\"sk-toggleable__control sk-hidden--visually\" id=\"f9252a63-c35f-4b97-b4f1-336e551be76f\" type=\"checkbox\" ><label for=\"f9252a63-c35f-4b97-b4f1-336e551be76f\" class=\"sk-toggleable__label sk-toggleable__label-arrow\">Pipeline</label><div class=\"sk-toggleable__content\"><pre>Pipeline(steps=[(&#x27;columntransformer&#x27;,\n",
       "                 ColumnTransformer(transformers=[(&#x27;num_impute&#x27;,\n",
       "                                                  Pipeline(steps=[(&#x27;simpleimputer&#x27;,\n",
       "                                                                   SimpleImputer()),\n",
       "                                                                  (&#x27;standardscaler&#x27;,\n",
       "                                                                   StandardScaler())]),\n",
       "                                                  &lt;sklearn.compose._column_transformer.make_column_selector object at 0x7fcb5e21b640&gt;),\n",
       "                                                 (&#x27;cat_trans&#x27;,\n",
       "                                                  Pipeline(steps=[(&#x27;onehotencoder&#x27;,\n",
       "                                                                   OneHotEncoder())]),\n",
       "                                                  [&#x27;loan_purpose_name&#x27;])])),\n",
       "                (&#x27;logisticregression&#x27;, LogisticRegression())])</pre></div></div></div><div class=\"sk-serial\"><div class=\"sk-item sk-dashed-wrapped\"><div class=\"sk-label-container\"><div class=\"sk-label sk-toggleable\"><input class=\"sk-toggleable__control sk-hidden--visually\" id=\"9bd90617-a463-40d7-ba9f-33e10b31b25e\" type=\"checkbox\" ><label for=\"9bd90617-a463-40d7-ba9f-33e10b31b25e\" class=\"sk-toggleable__label sk-toggleable__label-arrow\">columntransformer: ColumnTransformer</label><div class=\"sk-toggleable__content\"><pre>ColumnTransformer(transformers=[(&#x27;num_impute&#x27;,\n",
       "                                 Pipeline(steps=[(&#x27;simpleimputer&#x27;,\n",
       "                                                  SimpleImputer()),\n",
       "                                                 (&#x27;standardscaler&#x27;,\n",
       "                                                  StandardScaler())]),\n",
       "                                 &lt;sklearn.compose._column_transformer.make_column_selector object at 0x7fcb5e21b640&gt;),\n",
       "                                (&#x27;cat_trans&#x27;,\n",
       "                                 Pipeline(steps=[(&#x27;onehotencoder&#x27;,\n",
       "                                                  OneHotEncoder())]),\n",
       "                                 [&#x27;loan_purpose_name&#x27;])])</pre></div></div></div><div class=\"sk-parallel\"><div class=\"sk-parallel-item\"><div class=\"sk-item\"><div class=\"sk-label-container\"><div class=\"sk-label sk-toggleable\"><input class=\"sk-toggleable__control sk-hidden--visually\" id=\"48e30b0f-6213-4d13-8f06-ee1c1cb1689f\" type=\"checkbox\" ><label for=\"48e30b0f-6213-4d13-8f06-ee1c1cb1689f\" class=\"sk-toggleable__label sk-toggleable__label-arrow\">num_impute</label><div class=\"sk-toggleable__content\"><pre>&lt;sklearn.compose._column_transformer.make_column_selector object at 0x7fcb5e21b640&gt;</pre></div></div></div><div class=\"sk-serial\"><div class=\"sk-item\"><div class=\"sk-serial\"><div class=\"sk-item\"><div class=\"sk-estimator sk-toggleable\"><input class=\"sk-toggleable__control sk-hidden--visually\" id=\"6479fa8c-6442-4f25-be9f-63e95b5f8e1b\" type=\"checkbox\" ><label for=\"6479fa8c-6442-4f25-be9f-63e95b5f8e1b\" class=\"sk-toggleable__label sk-toggleable__label-arrow\">SimpleImputer</label><div class=\"sk-toggleable__content\"><pre>SimpleImputer()</pre></div></div></div><div class=\"sk-item\"><div class=\"sk-estimator sk-toggleable\"><input class=\"sk-toggleable__control sk-hidden--visually\" id=\"f9daa8c9-231f-45a7-bcf8-c7cb8daceb68\" type=\"checkbox\" ><label for=\"f9daa8c9-231f-45a7-bcf8-c7cb8daceb68\" class=\"sk-toggleable__label sk-toggleable__label-arrow\">StandardScaler</label><div class=\"sk-toggleable__content\"><pre>StandardScaler()</pre></div></div></div></div></div></div></div></div><div class=\"sk-parallel-item\"><div class=\"sk-item\"><div class=\"sk-label-container\"><div class=\"sk-label sk-toggleable\"><input class=\"sk-toggleable__control sk-hidden--visually\" id=\"f9ced695-752b-48bd-8bbc-7b61f450447a\" type=\"checkbox\" ><label for=\"f9ced695-752b-48bd-8bbc-7b61f450447a\" class=\"sk-toggleable__label sk-toggleable__label-arrow\">cat_trans</label><div class=\"sk-toggleable__content\"><pre>[&#x27;loan_purpose_name&#x27;]</pre></div></div></div><div class=\"sk-serial\"><div class=\"sk-item\"><div class=\"sk-serial\"><div class=\"sk-item\"><div class=\"sk-estimator sk-toggleable\"><input class=\"sk-toggleable__control sk-hidden--visually\" id=\"c02328b6-72c6-40c2-ba28-928db5ef3ac8\" type=\"checkbox\" ><label for=\"c02328b6-72c6-40c2-ba28-928db5ef3ac8\" class=\"sk-toggleable__label sk-toggleable__label-arrow\">OneHotEncoder</label><div class=\"sk-toggleable__content\"><pre>OneHotEncoder()</pre></div></div></div></div></div></div></div></div></div></div><div class=\"sk-item\"><div class=\"sk-estimator sk-toggleable\"><input class=\"sk-toggleable__control sk-hidden--visually\" id=\"9fce820a-7db6-4584-868d-52fd29202e0f\" type=\"checkbox\" ><label for=\"9fce820a-7db6-4584-868d-52fd29202e0f\" class=\"sk-toggleable__label sk-toggleable__label-arrow\">LogisticRegression</label><div class=\"sk-toggleable__content\"><pre>LogisticRegression()</pre></div></div></div></div></div></div></div>"
      ],
      "text/plain": [
       "Pipeline(steps=[('columntransformer',\n",
       "                 ColumnTransformer(transformers=[('num_impute',\n",
       "                                                  Pipeline(steps=[('simpleimputer',\n",
       "                                                                   SimpleImputer()),\n",
       "                                                                  ('standardscaler',\n",
       "                                                                   StandardScaler())]),\n",
       "                                                  <sklearn.compose._column_transformer.make_column_selector object at 0x7fcb5e21b640>),\n",
       "                                                 ('cat_trans',\n",
       "                                                  Pipeline(steps=[('onehotencoder',\n",
       "                                                                   OneHotEncoder())]),\n",
       "                                                  ['loan_purpose_name'])])),\n",
       "                ('logisticregression', LogisticRegression())])"
      ]
     },
     "execution_count": 12,
     "metadata": {},
     "output_type": "execute_result"
    }
   ],
   "source": [
    "clf_logit.fit(X_train, y_train) "
   ]
  },
  {
   "cell_type": "raw",
   "id": "69805b12-4d8c-45cb-a803-328dc6661481",
   "metadata": {},
   "source": [
    "\n",
    "predictions = clf_logit.predict(X_train)\n",
    "\n",
    "probabilities = clf_logit.predict_proba(X_train)\n",
    "\n",
    "from sklearn.metrics import r2_score\n",
    "\n",
    "r2_score(y_train, predictions)"
   ]
  },
  {
   "cell_type": "code",
   "execution_count": 13,
   "id": "0d2d538f-f96d-46a4-a704-517020ad74f8",
   "metadata": {},
   "outputs": [
    {
     "name": "stdout",
     "output_type": "stream",
     "text": [
      "              precision    recall  f1-score   support\n",
      "\n",
      "       False       0.67      0.01      0.01       267\n",
      "        True       0.90      1.00      0.95      2296\n",
      "\n",
      "    accuracy                           0.90      2563\n",
      "   macro avg       0.78      0.50      0.48      2563\n",
      "weighted avg       0.87      0.90      0.85      2563\n",
      "\n"
     ]
    }
   ],
   "source": [
    "print(classification_report(y_train, \n",
    "                            clf_logit.predict(X_train)))"
   ]
  },
  {
   "cell_type": "code",
   "execution_count": 14,
   "id": "5373e93f-6c03-43f6-a7e6-67ed41392f7c",
   "metadata": {},
   "outputs": [
    {
     "data": {
      "text/plain": [
       "<sklearn.metrics._plot.confusion_matrix.ConfusionMatrixDisplay at 0x7fcb5dd1e970>"
      ]
     },
     "execution_count": 14,
     "metadata": {},
     "output_type": "execute_result"
    },
    {
     "data": {
      "image/png": "[encoded data removed]",
      "text/plain": [
       "<Figure size 432x288 with 2 Axes>"
      ]
     },
     "metadata": {
      "needs_background": "light"
     },
     "output_type": "display_data"
    }
   ],
   "source": [
    "ConfusionMatrixDisplay.from_estimator(clf_logit, X_train, y_train)"
   ]
  },
  {
   "cell_type": "code",
   "execution_count": 15,
   "id": "221290ef-1fe9-40db-96e9-68c13f6f0765",
   "metadata": {},
   "outputs": [
    {
     "data": {
      "text/plain": [
       "<sklearn.calibration.CalibrationDisplay at 0x7fcb5e1cb790>"
      ]
     },
     "execution_count": 15,
     "metadata": {},
     "output_type": "execute_result"
    },
    {
     "data": {
      "image/png": "[encoded data removed]",
      "text/plain": [
       "<Figure size 432x288 with 1 Axes>"
      ]
     },
     "metadata": {
      "needs_background": "light"
     },
     "output_type": "display_data"
    }
   ],
   "source": [
    "CalibrationDisplay.from_estimator(clf_logit, X_train, y_train)"
   ]
  },
  {
   "cell_type": "code",
   "execution_count": 16,
   "id": "f82118a1-d374-4082-8fff-b80e31c006f1",
   "metadata": {},
   "outputs": [
    {
     "data": {
      "text/html": [
       "<div>\n",
       "<style scoped>\n",
       "    .dataframe tbody tr th:only-of-type {\n",
       "        vertical-align: middle;\n",
       "    }\n",
       "\n",
       "    .dataframe tbody tr th {\n",
       "        vertical-align: top;\n",
       "    }\n",
       "\n",
       "    .dataframe thead th {\n",
       "        text-align: right;\n",
       "    }\n",
       "</style>\n",
       "<table border=\"1\" class=\"dataframe\">\n",
       "  <thead>\n",
       "    <tr style=\"text-align: right;\">\n",
       "      <th></th>\n",
       "      <th>Respondent_ID</th>\n",
       "      <th>Prediction</th>\n",
       "    </tr>\n",
       "  </thead>\n",
       "  <tbody>\n",
       "    <tr>\n",
       "      <th>1488</th>\n",
       "      <td>66158</td>\n",
       "      <td>True</td>\n",
       "    </tr>\n",
       "    <tr>\n",
       "      <th>3495</th>\n",
       "      <td>705537</td>\n",
       "      <td>True</td>\n",
       "    </tr>\n",
       "    <tr>\n",
       "      <th>2022</th>\n",
       "      <td>26-4599244</td>\n",
       "      <td>True</td>\n",
       "    </tr>\n",
       "    <tr>\n",
       "      <th>2532</th>\n",
       "      <td>22-3747694</td>\n",
       "      <td>True</td>\n",
       "    </tr>\n",
       "    <tr>\n",
       "      <th>4749</th>\n",
       "      <td>1768800000</td>\n",
       "      <td>True</td>\n",
       "    </tr>\n",
       "    <tr>\n",
       "      <th>...</th>\n",
       "      <td>...</td>\n",
       "      <td>...</td>\n",
       "    </tr>\n",
       "    <tr>\n",
       "      <th>6481</th>\n",
       "      <td>817824</td>\n",
       "      <td>True</td>\n",
       "    </tr>\n",
       "    <tr>\n",
       "      <th>8576</th>\n",
       "      <td>280110</td>\n",
       "      <td>True</td>\n",
       "    </tr>\n",
       "    <tr>\n",
       "      <th>9943</th>\n",
       "      <td>47-0912342</td>\n",
       "      <td>True</td>\n",
       "    </tr>\n",
       "    <tr>\n",
       "      <th>9462</th>\n",
       "      <td>36-4771976</td>\n",
       "      <td>True</td>\n",
       "    </tr>\n",
       "    <tr>\n",
       "      <th>6912</th>\n",
       "      <td>30011</td>\n",
       "      <td>True</td>\n",
       "    </tr>\n",
       "  </tbody>\n",
       "</table>\n",
       "<p>641 rows × 2 columns</p>\n",
       "</div>"
      ],
      "text/plain": [
       "     Respondent_ID  Prediction\n",
       "1488         66158        True\n",
       "3495        705537        True\n",
       "2022    26-4599244        True\n",
       "2532    22-3747694        True\n",
       "4749    1768800000        True\n",
       "...            ...         ...\n",
       "6481        817824        True\n",
       "8576        280110        True\n",
       "9943    47-0912342        True\n",
       "9462    36-4771976        True\n",
       "6912         30011        True\n",
       "\n",
       "[641 rows x 2 columns]"
      ]
     },
     "execution_count": 16,
     "metadata": {},
     "output_type": "execute_result"
    }
   ],
   "source": [
    "logit_pred_test = pd.DataFrame({'Respondent_ID': X_test['respondent_id'], 'Prediction': clf_logit.predict(X_test)})\n",
    "logit_pred_test\n",
    "#when true, model predicted it they would deny and they did "
   ]
  },
  {
   "cell_type": "code",
   "execution_count": 18,
   "id": "2f0198e1-687c-4a81-a497-ae9a128a00a1",
   "metadata": {},
   "outputs": [],
   "source": [
    "logit_pred_test.to_csv('pred/test1.csv', index=False)"
   ]
  },
  {
   "cell_type": "code",
   "execution_count": 24,
   "id": "6fa4d9eb-bf75-4e7f-8dae-b0ca95e6f37e",
   "metadata": {},
   "outputs": [],
   "source": [
    "bigmort = pd.read_csv('input/mortgage_holdout.csv')"
   ]
  },
  {
   "cell_type": "code",
   "execution_count": 25,
   "id": "7d742965-6785-4d8f-a525-26f8078defde",
   "metadata": {},
   "outputs": [],
   "source": [
    "perc = 94.6 # Like N %\n",
    "min_count =  int(((100-perc)/100)*mortgage.shape[0] + 1)\n",
    "bigmort = bigmort.dropna( axis=1, \n",
    "                thresh=min_count)"
   ]
  },
  {
   "cell_type": "code",
   "execution_count": 26,
   "id": "2c02c008-53db-4b88-a6dc-50f3c944150c",
   "metadata": {},
   "outputs": [],
   "source": [
    "bigmort = bigmort[(bigmort.action_taken == 2) | (bigmort.action_taken == 3)]"
   ]
  },
  {
   "cell_type": "code",
   "execution_count": 27,
   "id": "6ddf1c38-8ed1-4a64-b830-b0a5f07c3677",
   "metadata": {},
   "outputs": [
    {
     "data": {
      "text/html": [
       "<div>\n",
       "<style scoped>\n",
       "    .dataframe tbody tr th:only-of-type {\n",
       "        vertical-align: middle;\n",
       "    }\n",
       "\n",
       "    .dataframe tbody tr th {\n",
       "        vertical-align: top;\n",
       "    }\n",
       "\n",
       "    .dataframe thead th {\n",
       "        text-align: right;\n",
       "    }\n",
       "</style>\n",
       "<table border=\"1\" class=\"dataframe\">\n",
       "  <thead>\n",
       "    <tr style=\"text-align: right;\">\n",
       "      <th></th>\n",
       "      <th>Respondent_ID</th>\n",
       "      <th>Prediction</th>\n",
       "    </tr>\n",
       "  </thead>\n",
       "  <tbody>\n",
       "    <tr>\n",
       "      <th>1</th>\n",
       "      <td>43-1965151</td>\n",
       "      <td>True</td>\n",
       "    </tr>\n",
       "    <tr>\n",
       "      <th>6</th>\n",
       "      <td>0000480228</td>\n",
       "      <td>True</td>\n",
       "    </tr>\n",
       "    <tr>\n",
       "      <th>12</th>\n",
       "      <td>0000817824</td>\n",
       "      <td>True</td>\n",
       "    </tr>\n",
       "    <tr>\n",
       "      <th>14</th>\n",
       "      <td>7197000003</td>\n",
       "      <td>True</td>\n",
       "    </tr>\n",
       "    <tr>\n",
       "      <th>16</th>\n",
       "      <td>0000675332</td>\n",
       "      <td>True</td>\n",
       "    </tr>\n",
       "    <tr>\n",
       "      <th>...</th>\n",
       "      <td>...</td>\n",
       "      <td>...</td>\n",
       "    </tr>\n",
       "    <tr>\n",
       "      <th>473749</th>\n",
       "      <td>0000451965</td>\n",
       "      <td>True</td>\n",
       "    </tr>\n",
       "    <tr>\n",
       "      <th>473752</th>\n",
       "      <td>26-2261031</td>\n",
       "      <td>True</td>\n",
       "    </tr>\n",
       "    <tr>\n",
       "      <th>473754</th>\n",
       "      <td>45-5510883</td>\n",
       "      <td>True</td>\n",
       "    </tr>\n",
       "    <tr>\n",
       "      <th>473755</th>\n",
       "      <td>0000002551</td>\n",
       "      <td>True</td>\n",
       "    </tr>\n",
       "    <tr>\n",
       "      <th>473756</th>\n",
       "      <td>0000006694</td>\n",
       "      <td>True</td>\n",
       "    </tr>\n",
       "  </tbody>\n",
       "</table>\n",
       "<p>88185 rows × 2 columns</p>\n",
       "</div>"
      ],
      "text/plain": [
       "       Respondent_ID  Prediction\n",
       "1         43-1965151        True\n",
       "6         0000480228        True\n",
       "12        0000817824        True\n",
       "14        7197000003        True\n",
       "16        0000675332        True\n",
       "...              ...         ...\n",
       "473749    0000451965        True\n",
       "473752    26-2261031        True\n",
       "473754    45-5510883        True\n",
       "473755    0000002551        True\n",
       "473756    0000006694        True\n",
       "\n",
       "[88185 rows x 2 columns]"
      ]
     },
     "execution_count": 27,
     "metadata": {},
     "output_type": "execute_result"
    }
   ],
   "source": [
    "bigtest = pd.DataFrame({'Respondent_ID': bigmort['respondent_id'], 'Prediction': clf_logit.predict(bigmort)})\n",
    "bigtest\n",
    "#fals, model rejects loan but in reality they accepted the loan"
   ]
  },
  {
   "cell_type": "code",
   "execution_count": 28,
   "id": "840df2b7-2ee5-4c6a-8ec0-7917a3f84acd",
   "metadata": {},
   "outputs": [],
   "source": [
    "bigtest.to_csv('pred/test2.csv', index=False)"
   ]
  },
  {
   "cell_type": "code",
   "execution_count": null,
   "id": "695d4c4a-5576-409a-b9a6-54115e89765c",
   "metadata": {},
   "outputs": [],
   "source": [
    "#THIS DID NOT EXCLUDE DEMOGRAPHICS, need to find way to exclude numerical values that represent \n",
    "#race (we can still not use any of the categorical variables in our pipeline.)"
   ]
  }
 ],
 "metadata": {
  "kernelspec": {
   "display_name": "Python 3 (ipykernel)",
   "language": "python",
   "name": "python3"
  },
  "language_info": {
   "codemirror_mode": {
    "name": "ipython",
    "version": 3
   },
   "file_extension": ".py",
   "mimetype": "text/x-python",
   "name": "python",
   "nbconvert_exporter": "python",
   "pygments_lexer": "ipython3",
   "version": "3.9.7"
  }
 },
 "nbformat": 4,
 "nbformat_minor": 5
}
